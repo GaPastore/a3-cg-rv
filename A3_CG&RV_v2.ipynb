{
  "cells": [
    {
      "cell_type": "markdown",
      "metadata": {
        "colab_type": "text",
        "id": "view-in-github"
      },
      "source": [
        "<a href=\"https://colab.research.google.com/github/pedromorais03/a3-cg-rv/blob/main/A3_CG%26RV_v2.ipynb\" target=\"_parent\"><img src=\"https://colab.research.google.com/assets/colab-badge.svg\" alt=\"Open In Colab\"/></a>"
      ]
    },
    {
      "cell_type": "code",
      "execution_count": null,
      "metadata": {
        "colab": {
          "base_uri": "https://localhost:8080/"
        },
        "id": "hPKDtsp-Ao_Z",
        "outputId": "8d1bb86f-b2b0-4974-f9df-ca4eaa3b6c2e"
      },
      "outputs": [
        {
          "name": "stdout",
          "output_type": "stream",
          "text": [
            "1/1 [==============================] - 1s 942ms/step\n",
            "Classe: Gramados Ruins\n",
            "% de Confiabilidade: 57 %\n"
          ]
        }
      ],
      "source": [
        "from keras.models import load_model\n",
        "import cv2\n",
        "import numpy as np\n",
        "from google.colab.patches import cv2_imshow\n",
        "\n",
        "# configurações do modelo\n",
        "\n",
        "np.set_printoptions(suppress=True)\n",
        "\n",
        "model = load_model(\"keras_model.h5\", compile=False)\n",
        "\n",
        "class_names = open(\"labels.txt\", \"r\").readlines()\n",
        "\n",
        "\n",
        "# input para quantidade de imagens analisadas\n",
        "\n",
        "num = 0\n",
        "\n",
        "while num == 0:\n",
        "  try:\n",
        "    num = int(input('Quantas imagens quer analisar?: '))\n",
        "  except ValueError:\n",
        "    print(\"Valor inválido. Digite um número inteiro.\")\n",
        "\n",
        "\n",
        "# função de análise das imagens\n",
        "\n",
        "def predict():\n",
        "\n",
        "  # configurações da imagem\n",
        "\n",
        "  img_name = input('Digite o nome do arquivo (com extensão): ')\n",
        "  \n",
        "  image = cv2.imread(img_name)\n",
        "  image = cv2.resize(image, (224, 224), interpolation=cv2.INTER_AREA)\n",
        "  image = np.asarray(image, dtype=np.float32).reshape(1, 224, 224, 3)\n",
        "  image = (image / 127.5) - 1\n",
        "\n",
        "  # mostrando imagem\n",
        "  \n",
        "  img_name = cv2.imread(img_name)\n",
        "  cv2_imshow(img_name)\n",
        "\n",
        "  # criando predição\n",
        "\n",
        "  prediction = model.predict(image)\n",
        "  index = np.argmax(prediction)\n",
        "  class_name = class_names[index]\n",
        "  confidence_score = prediction[0][index]\n",
        "\n",
        "  # Mostrando resultados obtidos\n",
        "  \n",
        "  print(\"Classe:\", class_name[2:], end=\"\")\n",
        "  print(\"% de Confiabilidade:\", str(np.round(confidence_score * 100))[:-2], \"%\")\n",
        "\n",
        "\n",
        "# loop para predições\n",
        "\n",
        "for i in range(num):\n",
        "  predict()\n",
        "  \n",
        "cv2.destroyAllWindows()"
      ]
    }
  ],
  "metadata": {
    "colab": {
      "authorship_tag": "ABX9TyPSLbGjbNkuyxW3bezDIks9",
      "include_colab_link": true,
      "provenance": []
    },
    "kernelspec": {
      "display_name": "Python 3",
      "name": "python3"
    },
    "language_info": {
      "name": "python"
    }
  },
  "nbformat": 4,
  "nbformat_minor": 0
}
