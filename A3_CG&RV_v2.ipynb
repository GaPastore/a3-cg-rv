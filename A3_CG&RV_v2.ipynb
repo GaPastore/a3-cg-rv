{
  "nbformat": 4,
  "nbformat_minor": 0,
  "metadata": {
    "colab": {
      "provenance": [],
      "authorship_tag": "ABX9TyPSLbGjbNkuyxW3bezDIks9",
      "include_colab_link": true
    },
    "kernelspec": {
      "name": "python3",
      "display_name": "Python 3"
    },
    "language_info": {
      "name": "python"
    }
  },
  "cells": [
    {
      "cell_type": "markdown",
      "metadata": {
        "id": "view-in-github",
        "colab_type": "text"
      },
      "source": [
        "<a href=\"https://colab.research.google.com/github/pedromorais03/a3-cg-rv/blob/main/A3_CG%26RV_v2.ipynb\" target=\"_parent\"><img src=\"https://colab.research.google.com/assets/colab-badge.svg\" alt=\"Open In Colab\"/></a>"
      ]
    },
    {
      "cell_type": "code",
      "execution_count": null,
      "metadata": {
        "colab": {
          "base_uri": "https://localhost:8080/"
        },
        "id": "hPKDtsp-Ao_Z",
        "outputId": "8d1bb86f-b2b0-4974-f9df-ca4eaa3b6c2e"
      },
      "outputs": [
        {
          "output_type": "stream",
          "name": "stdout",
          "text": [
            "1/1 [==============================] - 1s 942ms/step\n",
            "Classe: Gramados Ruins\n",
            "% de Confiabilidade: 57 %\n"
          ]
        }
      ],
      "source": [
        "from keras.models import load_model\n",
        "import cv2\n",
        "import numpy as np\n",
        "\n",
        "np.set_printoptions(suppress=True)\n",
        "\n",
        "model = load_model(\"keras_model.h5\", compile=False)\n",
        "\n",
        "class_names = open(\"labels.txt\", \"r\").readlines()\n",
        "\n",
        "image = cv2.imread(\"teste_ruim.jpg\")\n",
        "image = cv2.resize(image, (224, 224), interpolation=cv2.INTER_AREA)\n",
        "\n",
        "image = np.asarray(image, dtype=np.float32).reshape(1, 224, 224, 3)\n",
        "\n",
        "\n",
        "image = (image / 127.5) - 1\n",
        "\n",
        "\n",
        "prediction = model.predict(image)\n",
        "index = np.argmax(prediction)\n",
        "class_name = class_names[index]\n",
        "confidence_score = prediction[0][index]\n",
        "\n",
        "\n",
        "print(\"Classe:\", class_name[2:], end=\"\")\n",
        "print(\"% de Confiabilidade:\", str(np.round(confidence_score * 100))[:-2], \"%\")\n",
        "\n",
        "\n",
        "\n",
        "cv2.destroyAllWindows()\n"
      ]
    }
  ]
}